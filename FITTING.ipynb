{
 "cells": [
  {
   "cell_type": "code",
   "execution_count": 24,
   "metadata": {},
   "outputs": [],
   "source": [
    "import pandas as pd"
   ]
  },
  {
   "cell_type": "code",
   "execution_count": 25,
   "metadata": {},
   "outputs": [],
   "source": [
    "data = pd.read_excel(\"strategy_results_train.xlsx\")"
   ]
  },
  {
   "cell_type": "code",
   "execution_count": 26,
   "metadata": {},
   "outputs": [
    {
     "data": {
      "text/html": [
       "<div>\n",
       "<style scoped>\n",
       "    .dataframe tbody tr th:only-of-type {\n",
       "        vertical-align: middle;\n",
       "    }\n",
       "\n",
       "    .dataframe tbody tr th {\n",
       "        vertical-align: top;\n",
       "    }\n",
       "\n",
       "    .dataframe thead th {\n",
       "        text-align: right;\n",
       "    }\n",
       "</style>\n",
       "<table border=\"1\" class=\"dataframe\">\n",
       "  <thead>\n",
       "    <tr style=\"text-align: right;\">\n",
       "      <th></th>\n",
       "      <th>id</th>\n",
       "      <th>label</th>\n",
       "      <th>date</th>\n",
       "      <th>open</th>\n",
       "      <th>high</th>\n",
       "      <th>low</th>\n",
       "      <th>close</th>\n",
       "      <th>volume</th>\n",
       "      <th>ma5</th>\n",
       "      <th>ma10</th>\n",
       "      <th>ma15</th>\n",
       "      <th>apo</th>\n",
       "      <th>rsi</th>\n",
       "      <th>cmo</th>\n",
       "    </tr>\n",
       "  </thead>\n",
       "  <tbody>\n",
       "    <tr>\n",
       "      <th>0</th>\n",
       "      <td>SHSE.600085_201501</td>\n",
       "      <td>0</td>\n",
       "      <td>2014-12-30</td>\n",
       "      <td>20.900000</td>\n",
       "      <td>22.090000</td>\n",
       "      <td>20.799999</td>\n",
       "      <td>22.049999</td>\n",
       "      <td>25457468.0</td>\n",
       "      <td>21.291999</td>\n",
       "      <td>21.369</td>\n",
       "      <td>21.636000</td>\n",
       "      <td>0.142243</td>\n",
       "      <td>61.764303</td>\n",
       "      <td>23.528606</td>\n",
       "    </tr>\n",
       "    <tr>\n",
       "      <th>1</th>\n",
       "      <td>SHSE.600085_201502</td>\n",
       "      <td>1</td>\n",
       "      <td>2015-01-30</td>\n",
       "      <td>22.990000</td>\n",
       "      <td>23.190001</td>\n",
       "      <td>22.510000</td>\n",
       "      <td>22.580000</td>\n",
       "      <td>7880595.0</td>\n",
       "      <td>23.320000</td>\n",
       "      <td>23.386</td>\n",
       "      <td>23.590000</td>\n",
       "      <td>0.417949</td>\n",
       "      <td>46.331140</td>\n",
       "      <td>-7.337719</td>\n",
       "    </tr>\n",
       "    <tr>\n",
       "      <th>2</th>\n",
       "      <td>SHSE.600085_201503</td>\n",
       "      <td>1</td>\n",
       "      <td>2015-02-27</td>\n",
       "      <td>22.520000</td>\n",
       "      <td>22.670000</td>\n",
       "      <td>22.400000</td>\n",
       "      <td>22.540001</td>\n",
       "      <td>9263796.0</td>\n",
       "      <td>22.442000</td>\n",
       "      <td>22.106</td>\n",
       "      <td>22.165333</td>\n",
       "      <td>-0.577756</td>\n",
       "      <td>50.955797</td>\n",
       "      <td>1.911593</td>\n",
       "    </tr>\n",
       "    <tr>\n",
       "      <th>3</th>\n",
       "      <td>SHSE.600085_201504</td>\n",
       "      <td>1</td>\n",
       "      <td>2015-03-30</td>\n",
       "      <td>26.219999</td>\n",
       "      <td>26.440001</td>\n",
       "      <td>25.820000</td>\n",
       "      <td>26.230000</td>\n",
       "      <td>16125626.0</td>\n",
       "      <td>26.378000</td>\n",
       "      <td>25.148</td>\n",
       "      <td>24.380667</td>\n",
       "      <td>1.174423</td>\n",
       "      <td>69.989214</td>\n",
       "      <td>39.978429</td>\n",
       "    </tr>\n",
       "    <tr>\n",
       "      <th>4</th>\n",
       "      <td>SHSE.600085_201505</td>\n",
       "      <td>1</td>\n",
       "      <td>2015-04-29</td>\n",
       "      <td>32.580002</td>\n",
       "      <td>33.639999</td>\n",
       "      <td>32.279999</td>\n",
       "      <td>33.180000</td>\n",
       "      <td>13959795.0</td>\n",
       "      <td>32.888000</td>\n",
       "      <td>32.902</td>\n",
       "      <td>32.436000</td>\n",
       "      <td>2.774423</td>\n",
       "      <td>65.947116</td>\n",
       "      <td>31.894232</td>\n",
       "    </tr>\n",
       "  </tbody>\n",
       "</table>\n",
       "</div>"
      ],
      "text/plain": [
       "                   id  label       date       open       high        low  \\\n",
       "0  SHSE.600085_201501      0 2014-12-30  20.900000  22.090000  20.799999   \n",
       "1  SHSE.600085_201502      1 2015-01-30  22.990000  23.190001  22.510000   \n",
       "2  SHSE.600085_201503      1 2015-02-27  22.520000  22.670000  22.400000   \n",
       "3  SHSE.600085_201504      1 2015-03-30  26.219999  26.440001  25.820000   \n",
       "4  SHSE.600085_201505      1 2015-04-29  32.580002  33.639999  32.279999   \n",
       "\n",
       "       close      volume        ma5    ma10       ma15       apo        rsi  \\\n",
       "0  22.049999  25457468.0  21.291999  21.369  21.636000  0.142243  61.764303   \n",
       "1  22.580000   7880595.0  23.320000  23.386  23.590000  0.417949  46.331140   \n",
       "2  22.540001   9263796.0  22.442000  22.106  22.165333 -0.577756  50.955797   \n",
       "3  26.230000  16125626.0  26.378000  25.148  24.380667  1.174423  69.989214   \n",
       "4  33.180000  13959795.0  32.888000  32.902  32.436000  2.774423  65.947116   \n",
       "\n",
       "         cmo  \n",
       "0  23.528606  \n",
       "1  -7.337719  \n",
       "2   1.911593  \n",
       "3  39.978429  \n",
       "4  31.894232  "
      ]
     },
     "execution_count": 26,
     "metadata": {},
     "output_type": "execute_result"
    }
   ],
   "source": [
    "data.head()"
   ]
  },
  {
   "cell_type": "code",
   "execution_count": 27,
   "metadata": {},
   "outputs": [],
   "source": [
    "data2 = pd.concat( [data.iloc[:, 1], data.iloc[:, 8:]], axis=1)"
   ]
  },
  {
   "cell_type": "code",
   "execution_count": 28,
   "metadata": {},
   "outputs": [
    {
     "data": {
      "text/html": [
       "<div>\n",
       "<style scoped>\n",
       "    .dataframe tbody tr th:only-of-type {\n",
       "        vertical-align: middle;\n",
       "    }\n",
       "\n",
       "    .dataframe tbody tr th {\n",
       "        vertical-align: top;\n",
       "    }\n",
       "\n",
       "    .dataframe thead th {\n",
       "        text-align: right;\n",
       "    }\n",
       "</style>\n",
       "<table border=\"1\" class=\"dataframe\">\n",
       "  <thead>\n",
       "    <tr style=\"text-align: right;\">\n",
       "      <th></th>\n",
       "      <th>label</th>\n",
       "      <th>ma5</th>\n",
       "      <th>ma10</th>\n",
       "      <th>ma15</th>\n",
       "      <th>apo</th>\n",
       "      <th>rsi</th>\n",
       "      <th>cmo</th>\n",
       "    </tr>\n",
       "  </thead>\n",
       "  <tbody>\n",
       "    <tr>\n",
       "      <th>0</th>\n",
       "      <td>0</td>\n",
       "      <td>21.291999</td>\n",
       "      <td>21.369</td>\n",
       "      <td>21.636000</td>\n",
       "      <td>0.142243</td>\n",
       "      <td>61.764303</td>\n",
       "      <td>23.528606</td>\n",
       "    </tr>\n",
       "    <tr>\n",
       "      <th>1</th>\n",
       "      <td>1</td>\n",
       "      <td>23.320000</td>\n",
       "      <td>23.386</td>\n",
       "      <td>23.590000</td>\n",
       "      <td>0.417949</td>\n",
       "      <td>46.331140</td>\n",
       "      <td>-7.337719</td>\n",
       "    </tr>\n",
       "    <tr>\n",
       "      <th>2</th>\n",
       "      <td>1</td>\n",
       "      <td>22.442000</td>\n",
       "      <td>22.106</td>\n",
       "      <td>22.165333</td>\n",
       "      <td>-0.577756</td>\n",
       "      <td>50.955797</td>\n",
       "      <td>1.911593</td>\n",
       "    </tr>\n",
       "    <tr>\n",
       "      <th>3</th>\n",
       "      <td>1</td>\n",
       "      <td>26.378000</td>\n",
       "      <td>25.148</td>\n",
       "      <td>24.380667</td>\n",
       "      <td>1.174423</td>\n",
       "      <td>69.989214</td>\n",
       "      <td>39.978429</td>\n",
       "    </tr>\n",
       "    <tr>\n",
       "      <th>4</th>\n",
       "      <td>1</td>\n",
       "      <td>32.888000</td>\n",
       "      <td>32.902</td>\n",
       "      <td>32.436000</td>\n",
       "      <td>2.774423</td>\n",
       "      <td>65.947116</td>\n",
       "      <td>31.894232</td>\n",
       "    </tr>\n",
       "  </tbody>\n",
       "</table>\n",
       "</div>"
      ],
      "text/plain": [
       "   label        ma5    ma10       ma15       apo        rsi        cmo\n",
       "0      0  21.291999  21.369  21.636000  0.142243  61.764303  23.528606\n",
       "1      1  23.320000  23.386  23.590000  0.417949  46.331140  -7.337719\n",
       "2      1  22.442000  22.106  22.165333 -0.577756  50.955797   1.911593\n",
       "3      1  26.378000  25.148  24.380667  1.174423  69.989214  39.978429\n",
       "4      1  32.888000  32.902  32.436000  2.774423  65.947116  31.894232"
      ]
     },
     "execution_count": 28,
     "metadata": {},
     "output_type": "execute_result"
    }
   ],
   "source": [
    "data2.head()"
   ]
  },
  {
   "cell_type": "code",
   "execution_count": 29,
   "metadata": {},
   "outputs": [
    {
     "data": {
      "text/plain": [
       "label    False\n",
       "ma5       True\n",
       "ma10      True\n",
       "ma15      True\n",
       "apo       True\n",
       "rsi       True\n",
       "cmo       True\n",
       "dtype: bool"
      ]
     },
     "execution_count": 29,
     "metadata": {},
     "output_type": "execute_result"
    }
   ],
   "source": [
    "data2.isnull().any()"
   ]
  },
  {
   "cell_type": "code",
   "execution_count": 30,
   "metadata": {},
   "outputs": [
    {
     "data": {
      "text/plain": [
       "label    False\n",
       "ma5      False\n",
       "ma10     False\n",
       "ma15     False\n",
       "apo      False\n",
       "rsi      False\n",
       "cmo      False\n",
       "dtype: bool"
      ]
     },
     "execution_count": 30,
     "metadata": {},
     "output_type": "execute_result"
    }
   ],
   "source": [
    "data2 = data2.dropna(axis = 0)\n",
    "data2.isnull().any()"
   ]
  },
  {
   "cell_type": "code",
   "execution_count": 31,
   "metadata": {},
   "outputs": [
    {
     "data": {
      "text/plain": [
       "0        0\n",
       "1        1\n",
       "2        1\n",
       "3        1\n",
       "4        1\n",
       "        ..\n",
       "31942    1\n",
       "31943    0\n",
       "31944    0\n",
       "31945    0\n",
       "31946    0\n",
       "Name: label, Length: 31814, dtype: int64"
      ]
     },
     "execution_count": 31,
     "metadata": {},
     "output_type": "execute_result"
    }
   ],
   "source": [
    "y = data2[\"label\"]\n",
    "y"
   ]
  },
  {
   "cell_type": "code",
   "execution_count": 32,
   "metadata": {},
   "outputs": [],
   "source": [
    "X = data2.iloc[:, 1:]"
   ]
  },
  {
   "cell_type": "code",
   "execution_count": 33,
   "metadata": {},
   "outputs": [
    {
     "data": {
      "text/html": [
       "<div>\n",
       "<style scoped>\n",
       "    .dataframe tbody tr th:only-of-type {\n",
       "        vertical-align: middle;\n",
       "    }\n",
       "\n",
       "    .dataframe tbody tr th {\n",
       "        vertical-align: top;\n",
       "    }\n",
       "\n",
       "    .dataframe thead th {\n",
       "        text-align: right;\n",
       "    }\n",
       "</style>\n",
       "<table border=\"1\" class=\"dataframe\">\n",
       "  <thead>\n",
       "    <tr style=\"text-align: right;\">\n",
       "      <th></th>\n",
       "      <th>ma5</th>\n",
       "      <th>ma10</th>\n",
       "      <th>ma15</th>\n",
       "      <th>apo</th>\n",
       "      <th>rsi</th>\n",
       "      <th>cmo</th>\n",
       "    </tr>\n",
       "  </thead>\n",
       "  <tbody>\n",
       "    <tr>\n",
       "      <th>0</th>\n",
       "      <td>21.291999</td>\n",
       "      <td>21.369000</td>\n",
       "      <td>21.636000</td>\n",
       "      <td>0.142243</td>\n",
       "      <td>61.764303</td>\n",
       "      <td>23.528606</td>\n",
       "    </tr>\n",
       "    <tr>\n",
       "      <th>1</th>\n",
       "      <td>23.320000</td>\n",
       "      <td>23.386000</td>\n",
       "      <td>23.590000</td>\n",
       "      <td>0.417949</td>\n",
       "      <td>46.331140</td>\n",
       "      <td>-7.337719</td>\n",
       "    </tr>\n",
       "    <tr>\n",
       "      <th>2</th>\n",
       "      <td>22.442000</td>\n",
       "      <td>22.106000</td>\n",
       "      <td>22.165333</td>\n",
       "      <td>-0.577756</td>\n",
       "      <td>50.955797</td>\n",
       "      <td>1.911593</td>\n",
       "    </tr>\n",
       "    <tr>\n",
       "      <th>3</th>\n",
       "      <td>26.378000</td>\n",
       "      <td>25.148000</td>\n",
       "      <td>24.380667</td>\n",
       "      <td>1.174423</td>\n",
       "      <td>69.989214</td>\n",
       "      <td>39.978429</td>\n",
       "    </tr>\n",
       "    <tr>\n",
       "      <th>4</th>\n",
       "      <td>32.888000</td>\n",
       "      <td>32.902000</td>\n",
       "      <td>32.436000</td>\n",
       "      <td>2.774423</td>\n",
       "      <td>65.947116</td>\n",
       "      <td>31.894232</td>\n",
       "    </tr>\n",
       "    <tr>\n",
       "      <th>...</th>\n",
       "      <td>...</td>\n",
       "      <td>...</td>\n",
       "      <td>...</td>\n",
       "      <td>...</td>\n",
       "      <td>...</td>\n",
       "      <td>...</td>\n",
       "    </tr>\n",
       "    <tr>\n",
       "      <th>31942</th>\n",
       "      <td>58.442000</td>\n",
       "      <td>60.356001</td>\n",
       "      <td>60.682667</td>\n",
       "      <td>1.055962</td>\n",
       "      <td>47.753460</td>\n",
       "      <td>-4.493080</td>\n",
       "    </tr>\n",
       "    <tr>\n",
       "      <th>31943</th>\n",
       "      <td>56.290000</td>\n",
       "      <td>55.929000</td>\n",
       "      <td>56.114000</td>\n",
       "      <td>0.185000</td>\n",
       "      <td>46.175278</td>\n",
       "      <td>-7.649444</td>\n",
       "    </tr>\n",
       "    <tr>\n",
       "      <th>31944</th>\n",
       "      <td>55.034000</td>\n",
       "      <td>53.455999</td>\n",
       "      <td>52.943999</td>\n",
       "      <td>-0.403462</td>\n",
       "      <td>61.820766</td>\n",
       "      <td>23.641532</td>\n",
       "    </tr>\n",
       "    <tr>\n",
       "      <th>31945</th>\n",
       "      <td>45.882000</td>\n",
       "      <td>47.193000</td>\n",
       "      <td>49.858000</td>\n",
       "      <td>-2.139743</td>\n",
       "      <td>38.386574</td>\n",
       "      <td>-23.226852</td>\n",
       "    </tr>\n",
       "    <tr>\n",
       "      <th>31946</th>\n",
       "      <td>49.150001</td>\n",
       "      <td>50.371001</td>\n",
       "      <td>51.181334</td>\n",
       "      <td>0.762821</td>\n",
       "      <td>39.348613</td>\n",
       "      <td>-21.302773</td>\n",
       "    </tr>\n",
       "  </tbody>\n",
       "</table>\n",
       "<p>31814 rows × 6 columns</p>\n",
       "</div>"
      ],
      "text/plain": [
       "             ma5       ma10       ma15       apo        rsi        cmo\n",
       "0      21.291999  21.369000  21.636000  0.142243  61.764303  23.528606\n",
       "1      23.320000  23.386000  23.590000  0.417949  46.331140  -7.337719\n",
       "2      22.442000  22.106000  22.165333 -0.577756  50.955797   1.911593\n",
       "3      26.378000  25.148000  24.380667  1.174423  69.989214  39.978429\n",
       "4      32.888000  32.902000  32.436000  2.774423  65.947116  31.894232\n",
       "...          ...        ...        ...       ...        ...        ...\n",
       "31942  58.442000  60.356001  60.682667  1.055962  47.753460  -4.493080\n",
       "31943  56.290000  55.929000  56.114000  0.185000  46.175278  -7.649444\n",
       "31944  55.034000  53.455999  52.943999 -0.403462  61.820766  23.641532\n",
       "31945  45.882000  47.193000  49.858000 -2.139743  38.386574 -23.226852\n",
       "31946  49.150001  50.371001  51.181334  0.762821  39.348613 -21.302773\n",
       "\n",
       "[31814 rows x 6 columns]"
      ]
     },
     "execution_count": 33,
     "metadata": {},
     "output_type": "execute_result"
    }
   ],
   "source": [
    "X"
   ]
  },
  {
   "cell_type": "code",
   "execution_count": 34,
   "metadata": {},
   "outputs": [],
   "source": [
    "X = X.dropna(axis = 0)"
   ]
  },
  {
   "cell_type": "code",
   "execution_count": 35,
   "metadata": {},
   "outputs": [
    {
     "data": {
      "text/plain": [
       "ma5     False\n",
       "ma10    False\n",
       "ma15    False\n",
       "apo     False\n",
       "rsi     False\n",
       "cmo     False\n",
       "dtype: bool"
      ]
     },
     "execution_count": 35,
     "metadata": {},
     "output_type": "execute_result"
    }
   ],
   "source": [
    "X.isnull().any()"
   ]
  },
  {
   "cell_type": "code",
   "execution_count": 36,
   "metadata": {},
   "outputs": [
    {
     "data": {
      "text/plain": [
       "(31814, 6)"
      ]
     },
     "execution_count": 36,
     "metadata": {},
     "output_type": "execute_result"
    }
   ],
   "source": [
    "X.shape"
   ]
  },
  {
   "cell_type": "code",
   "execution_count": 37,
   "metadata": {},
   "outputs": [
    {
     "data": {
      "text/plain": [
       "RandomForestClassifier()"
      ]
     },
     "execution_count": 37,
     "metadata": {},
     "output_type": "execute_result"
    }
   ],
   "source": [
    "from sklearn.ensemble import RandomForestClassifier\n",
    "clf = RandomForestClassifier()\n",
    "clf.fit(X, y)"
   ]
  },
  {
   "cell_type": "code",
   "execution_count": 38,
   "metadata": {},
   "outputs": [],
   "source": [
    "testdata = pd.read_excel(\"sampleSubmission.xlsx\")"
   ]
  },
  {
   "cell_type": "code",
   "execution_count": 39,
   "metadata": {},
   "outputs": [
    {
     "data": {
      "text/plain": [
       "id       False\n",
       "label    False\n",
       "ma5      False\n",
       "ma10     False\n",
       "ma15     False\n",
       "apo      False\n",
       "rsi      False\n",
       "cmo      False\n",
       "dtype: bool"
      ]
     },
     "execution_count": 39,
     "metadata": {},
     "output_type": "execute_result"
    }
   ],
   "source": [
    "testdata = testdata.fillna(0)\n",
    "testdata.isnull().any()"
   ]
  },
  {
   "cell_type": "code",
   "execution_count": 40,
   "metadata": {},
   "outputs": [
    {
     "data": {
      "text/html": [
       "<div>\n",
       "<style scoped>\n",
       "    .dataframe tbody tr th:only-of-type {\n",
       "        vertical-align: middle;\n",
       "    }\n",
       "\n",
       "    .dataframe tbody tr th {\n",
       "        vertical-align: top;\n",
       "    }\n",
       "\n",
       "    .dataframe thead th {\n",
       "        text-align: right;\n",
       "    }\n",
       "</style>\n",
       "<table border=\"1\" class=\"dataframe\">\n",
       "  <thead>\n",
       "    <tr style=\"text-align: right;\">\n",
       "      <th></th>\n",
       "      <th>ma5</th>\n",
       "      <th>ma10</th>\n",
       "      <th>ma15</th>\n",
       "      <th>apo</th>\n",
       "      <th>rsi</th>\n",
       "      <th>cmo</th>\n",
       "    </tr>\n",
       "  </thead>\n",
       "  <tbody>\n",
       "    <tr>\n",
       "      <th>0</th>\n",
       "      <td>27.258000</td>\n",
       "      <td>27.573000</td>\n",
       "      <td>28.198000</td>\n",
       "      <td>-0.695641</td>\n",
       "      <td>40.796678</td>\n",
       "      <td>-18.406644</td>\n",
       "    </tr>\n",
       "    <tr>\n",
       "      <th>1</th>\n",
       "      <td>26.624000</td>\n",
       "      <td>26.698000</td>\n",
       "      <td>26.724667</td>\n",
       "      <td>-0.084295</td>\n",
       "      <td>40.945731</td>\n",
       "      <td>-18.108538</td>\n",
       "    </tr>\n",
       "    <tr>\n",
       "      <th>2</th>\n",
       "      <td>28.890000</td>\n",
       "      <td>28.863000</td>\n",
       "      <td>28.408667</td>\n",
       "      <td>1.086282</td>\n",
       "      <td>60.789262</td>\n",
       "      <td>21.578524</td>\n",
       "    </tr>\n",
       "    <tr>\n",
       "      <th>3</th>\n",
       "      <td>29.532000</td>\n",
       "      <td>30.037000</td>\n",
       "      <td>30.157333</td>\n",
       "      <td>0.141795</td>\n",
       "      <td>52.700566</td>\n",
       "      <td>5.401132</td>\n",
       "    </tr>\n",
       "    <tr>\n",
       "      <th>4</th>\n",
       "      <td>31.514000</td>\n",
       "      <td>32.125000</td>\n",
       "      <td>32.192000</td>\n",
       "      <td>0.716218</td>\n",
       "      <td>47.196492</td>\n",
       "      <td>-5.607016</td>\n",
       "    </tr>\n",
       "    <tr>\n",
       "      <th>...</th>\n",
       "      <td>...</td>\n",
       "      <td>...</td>\n",
       "      <td>...</td>\n",
       "      <td>...</td>\n",
       "      <td>...</td>\n",
       "      <td>...</td>\n",
       "    </tr>\n",
       "    <tr>\n",
       "      <th>11358</th>\n",
       "      <td>86.210001</td>\n",
       "      <td>86.955000</td>\n",
       "      <td>86.357333</td>\n",
       "      <td>3.460192</td>\n",
       "      <td>50.174304</td>\n",
       "      <td>0.348607</td>\n",
       "    </tr>\n",
       "    <tr>\n",
       "      <th>11359</th>\n",
       "      <td>77.136000</td>\n",
       "      <td>80.214001</td>\n",
       "      <td>82.662001</td>\n",
       "      <td>-2.762948</td>\n",
       "      <td>34.462281</td>\n",
       "      <td>-31.075438</td>\n",
       "    </tr>\n",
       "    <tr>\n",
       "      <th>11360</th>\n",
       "      <td>70.966000</td>\n",
       "      <td>71.855001</td>\n",
       "      <td>72.971334</td>\n",
       "      <td>-1.730512</td>\n",
       "      <td>41.540826</td>\n",
       "      <td>-16.918348</td>\n",
       "    </tr>\n",
       "    <tr>\n",
       "      <th>11361</th>\n",
       "      <td>82.976001</td>\n",
       "      <td>79.619000</td>\n",
       "      <td>77.530667</td>\n",
       "      <td>3.766923</td>\n",
       "      <td>64.605778</td>\n",
       "      <td>29.211556</td>\n",
       "    </tr>\n",
       "    <tr>\n",
       "      <th>11362</th>\n",
       "      <td>81.462000</td>\n",
       "      <td>82.899000</td>\n",
       "      <td>84.118667</td>\n",
       "      <td>-0.380321</td>\n",
       "      <td>48.329598</td>\n",
       "      <td>-3.340803</td>\n",
       "    </tr>\n",
       "  </tbody>\n",
       "</table>\n",
       "<p>11363 rows × 6 columns</p>\n",
       "</div>"
      ],
      "text/plain": [
       "             ma5       ma10       ma15       apo        rsi        cmo\n",
       "0      27.258000  27.573000  28.198000 -0.695641  40.796678 -18.406644\n",
       "1      26.624000  26.698000  26.724667 -0.084295  40.945731 -18.108538\n",
       "2      28.890000  28.863000  28.408667  1.086282  60.789262  21.578524\n",
       "3      29.532000  30.037000  30.157333  0.141795  52.700566   5.401132\n",
       "4      31.514000  32.125000  32.192000  0.716218  47.196492  -5.607016\n",
       "...          ...        ...        ...       ...        ...        ...\n",
       "11358  86.210001  86.955000  86.357333  3.460192  50.174304   0.348607\n",
       "11359  77.136000  80.214001  82.662001 -2.762948  34.462281 -31.075438\n",
       "11360  70.966000  71.855001  72.971334 -1.730512  41.540826 -16.918348\n",
       "11361  82.976001  79.619000  77.530667  3.766923  64.605778  29.211556\n",
       "11362  81.462000  82.899000  84.118667 -0.380321  48.329598  -3.340803\n",
       "\n",
       "[11363 rows x 6 columns]"
      ]
     },
     "execution_count": 40,
     "metadata": {},
     "output_type": "execute_result"
    }
   ],
   "source": [
    "testdata.iloc[:, 2:]"
   ]
  },
  {
   "cell_type": "code",
   "execution_count": 43,
   "metadata": {},
   "outputs": [],
   "source": [
    "result = clf.predict(testdata.iloc[:, 2:])"
   ]
  },
  {
   "cell_type": "code",
   "execution_count": 46,
   "metadata": {},
   "outputs": [],
   "source": [
    "pd.DataFrame(result).to_excel(\"prediction.xlsx\", index=False)"
   ]
  },
  {
   "cell_type": "code",
   "execution_count": null,
   "metadata": {},
   "outputs": [],
   "source": []
  }
 ],
 "metadata": {
  "kernelspec": {
   "display_name": "Python 3",
   "language": "python",
   "name": "python3"
  },
  "language_info": {
   "codemirror_mode": {
    "name": "ipython",
    "version": 3
   },
   "file_extension": ".py",
   "mimetype": "text/x-python",
   "name": "python",
   "nbconvert_exporter": "python",
   "pygments_lexer": "ipython3",
   "version": "3.6.10"
  }
 },
 "nbformat": 4,
 "nbformat_minor": 4
}
